{
 "cells": [
  {
   "cell_type": "code",
   "execution_count": 1,
   "metadata": {},
   "outputs": [],
   "source": [
    "%matplotlib inline \n",
    "\n",
    "import pandas as pd\n",
    "import utilities.misc as um\n",
    "import utilities.constants as uc\n",
    "import utilities.display as ud\n",
    "import numpy as np\n",
    "import matplotlib.pyplot as plt\n",
    "import datetime\n",
    "\n",
    "from TwitterSearch import TwitterSearchOrder, TwitterSearch"
   ]
  },
  {
   "cell_type": "code",
   "execution_count": 2,
   "metadata": {},
   "outputs": [
    {
     "data": {
      "text/plain": [
       "'\\nAPI key: TSa4wica64R6phmKh3S4OPp7d\\nAPI secret key: LMqcIJKHilKbVzRUn8rGSG4OmYjQPGGKHPlVILLCIcsICNhDqE\\nAccess token: 344846030-pLd0078cG0TQw6qsx5tZHxIdIuJTAPlArFChPetQ\\nAccess token secret: ql6zlnOykXKtRRnJFuKFVmC60c1WYoDGxauzCBxtTCEyA\\n'"
      ]
     },
     "execution_count": 2,
     "metadata": {},
     "output_type": "execute_result"
    }
   ],
   "source": [
    "'''\n",
    "API key: TSa4wica64R6phmKh3S4OPp7d\n",
    "API secret key: LMqcIJKHilKbVzRUn8rGSG4OmYjQPGGKHPlVILLCIcsICNhDqE\n",
    "Access token: 344846030-pLd0078cG0TQw6qsx5tZHxIdIuJTAPlArFChPetQ\n",
    "Access token secret: ql6zlnOykXKtRRnJFuKFVmC60c1WYoDGxauzCBxtTCEyA\n",
    "'''"
   ]
  },
  {
   "cell_type": "markdown",
   "metadata": {},
   "source": [
    "# we can't get full text from TwitterSearch, try twitter"
   ]
  },
  {
   "cell_type": "code",
   "execution_count": 73,
   "metadata": {},
   "outputs": [],
   "source": [
    "\n",
    "\n",
    "ts = TwitterSearch(\n",
    "        consumer_key = 'TSa4wica64R6phmKh3S4OPp7d',\n",
    "        consumer_secret = 'LMqcIJKHilKbVzRUn8rGSG4OmYjQPGGKHPlVILLCIcsICNhDqE',\n",
    "        access_token = '344846030-pLd0078cG0TQw6qsx5tZHxIdIuJTAPlArFChPetQ',\n",
    "        access_token_secret = 'ql6zlnOykXKtRRnJFuKFVmC60c1WYoDGxauzCBxtTCEyA',\n",
    "    \n",
    "    tweet_mode='extended',\n",
    "    asdfasd='asdfas'\n",
    "     )\n"
   ]
  },
  {
   "cell_type": "code",
   "execution_count": 70,
   "metadata": {},
   "outputs": [],
   "source": [
    "tso = TwitterSearchOrder() # create a TwitterSearchOrder object\n",
    "tso.set_search_url('q=kobe%20lang%3Aen%20until%3A2020-02-28%20since%3A2019-02-01%20-filter%3Areplies&src=recent_search_click')\n",
    "res=ts.search_tweets_iterable(tso)"
   ]
  },
  {
   "cell_type": "code",
   "execution_count": 71,
   "metadata": {},
   "outputs": [],
   "source": [
    "tso = TwitterSearchOrder() # create a TwitterSearchOrder object\n",
    "tso.set_keywords(['kobe'])\n",
    "tso.set_language('en')\n",
    "tso.set_link_filter()\n",
    "tso.set_since(datetime.date(2020,2,10))\n",
    "tso.set_until(datetime.date(2020,2,11))\n",
    "res=ts.search_tweets_iterable(tso)"
   ]
  },
  {
   "cell_type": "code",
   "execution_count": 72,
   "metadata": {},
   "outputs": [
    {
     "name": "stdout",
     "output_type": "stream",
     "text": [
      "@only1grand tweeted: RT @MichaelRapaport: Exactly!!!\n",
      "#GayleKing wanted a story, she just didn’t get the one she expected. Apologize ⁦@GayleKing⁩ \n",
      "Straight Playe…\n",
      "@ChrisThePAC tweeted: RT @timelesssports_: (2001) Kobe and Iverson jawing at each other during the Finals.\n",
      "\n",
      "Undeniable passion. ♾ https://t.co/FzDM41OycM\n",
      "@bonginyaarea tweeted: RT @SFY: Before We Go: The Snoop and Gayle King camps will find middle ground if they just act like Kobe 2.0. @WhitlockJason\n",
      "\n",
      "cc: @Oprah @G…\n",
      "@jakepace11 tweeted: RT @espn: Four years ago today, Kobe gifted LeBron his game shoes that he signed following his last game in Cleveland.\n",
      "\n",
      "(via @cavs) https:/…\n",
      "@wavedds tweeted: RT @BleacherReport: Kobe was honored at the Oscars tonight 🙏 https://t.co/9hX2KgmGVV\n",
      "@MissNikkiNY tweeted: RT @CristalBarzz: Kobe had one accuser and he was acquitted. Charlie Rose had 27 accusers and #GayleKing stood by him. Make it make sense.…\n",
      "@LoriPri46875503 tweeted: RT @CBSThisMorning: Bishop T.D. Jakes (@BishopJakes) reflects on why Kobe Bryant means so much to so many people: \n",
      "\n",
      "\"We like people who are…\n",
      "@Vada_Fly tweeted: RT @bigtqmb: The scary part I found out he passed then had to go on stage the irony of it is spooky rip Kobe\n",
      "@wintieown tweeted: A prime Dwight Howard is the reason we didn’t get a Kobe/LeBron NBA Finals matchup in 2009. Yes he is a HOFer https://t.co/wzJzMjRKu0\n",
      "@FADEVisuals tweeted: RT @timelesssports_: (2001) Kobe and Iverson jawing at each other during the Finals.\n",
      "\n",
      "Undeniable passion. ♾ https://t.co/FzDM41OycM\n",
      "@megustaelbasket tweeted: RT @SInow: The Oscars paid tribute to Kobe with one of his most influential philosophies on life https://t.co/ZfwU9zAkZI\n",
      "@sean10793855 tweeted: RT @NBCNightlyNews: .@Miguelnbc reports now from Anaheim, California, where a public memorial for 3 of the victims in the Kobe Bryant helic…\n",
      "@netsnation711 tweeted: RT @MattNorlander: Many have a Kobe story; Ryan Badrtalei has hundreds. Most don’t know Kobe's path from All-Star to NBA 🐐 cut through the…\n",
      "@chieffgoofyy tweeted: RT @SportsCenter: Eight years ago today, Jeremy Lin put on a show at MSG vs. Kobe and the Lakers. https://t.co/bZPtfxOL2P\n",
      "@_WonJohnson tweeted: RT @SportsCenter: Eight years ago today, Jeremy Lin put on a show at MSG vs. Kobe and the Lakers. https://t.co/bZPtfxOL2P\n",
      "@AMUZZ22 tweeted: RT @BleacherReport: 2 years ago, Kobe won the Oscar for his short film \"Dear Basketball”\n",
      "\n",
      "A legendary second act 💜💛 https://t.co/Gq9GrAfwrn\n",
      "@JuanDLC54 tweeted: RT @ESPNNBA: On this day in 2002, Kobe returned to his hometown of Philly for the All-Star Game and took the MVP award with him. https://t.…\n",
      "@toshi_zx tweeted: RT @Breaking911: BREAKING: Video Shows Moment Before Kobe Bryant’s Helicopter Went Down  https://t.co/fp07RYzi7Y\n",
      "@vbspurs tweeted: RT @andjustice4some: Interesting move by Ellen.  Snoop and Martha Stewart guest hosting her show and Ice Cube talking about Kobe.  Is she d…\n",
      "@spaghetti_witch tweeted: RT @pablogoldstein: My pilot got on the #WGAstaffingboost #wgastaffingBoost grid. If you wanna read a script about a Venice Beach street ar…\n",
      "@theycallme_reef tweeted: RT @CristalBarzz: Kobe had one accuser and he was acquitted. Charlie Rose had 27 accusers and #GayleKing stood by him. Make it make sense.…\n",
      "@nic_hussle tweeted: RT @MattNorlander: Many have a Kobe story; Ryan Badrtalei has hundreds. Most don’t know Kobe's path from All-Star to NBA 🐐 cut through the…\n",
      "@Rodriguez_Ace tweeted: RT @Mamba_Insider: Kobe had some monster blocks in his career 👀💯 https://t.co/qJcEsc4QpD\n",
      "@Chrissdc5 tweeted: I thought bad bunny established that Kobe had 6 rings... https://t.co/7XghYTUXBf\n",
      "@officialsamiam tweeted: RT @timelesssports_: (2001) Kobe and Iverson jawing at each other during the Finals.\n",
      "\n",
      "Undeniable passion. ♾ https://t.co/FzDM41OycM\n",
      "@mindless_laker tweeted: RT @IsaacHayes3: #Kobe had one accuser and he was acquitted. Charlie Rose had 27 accusers and @GayleKing stood by him. \n",
      "\n",
      "Gayle King - “I do…\n",
      "@MAXWELL8580 tweeted: RT @BLKLiberation84: The Root = Anti-black, anti-black man, and anti-heterosexual black man. This is no longer about Kobe Bryant anymore. I…\n",
      "@ayyyoVeee tweeted: RT @ESPNNBA: On this day in 2002, Kobe returned to his hometown of Philly for the All-Star Game and took the MVP award with him. https://t.…\n",
      "@ayyyoVeee tweeted: I don't think there is one day where Kobe hasn't done something great 🥺😞 https://t.co/Adz5JLGlcC\n",
      "@DewoneG tweeted: RT @espn: Four years ago today, Kobe gifted LeBron his game shoes that he signed following his last game in Cleveland.\n",
      "\n",
      "(via @cavs) https:/…\n",
      "@AlunRoberts6 tweeted: RT @AudelDelToro: How many 🏆’s you got again Kobe? \n",
      "\n",
      "#MambaForever #BlackMamba #Kobe https://t.co/adK3C5PhJx\n",
      "@Glenaliz tweeted: “The most important thing is to try and inspire people so that they can be great in whatever they want to do.”… https://t.co/CQ8Wx2iJeB\n",
      "@KeyW0rldWide tweeted: I still go to Kobe’s twitter to check if he’s giving props to another up &amp; coming athlete https://t.co/fdiNWl0ky3\n",
      "@LadieeAsh tweeted: RT @LegionHoops: These Kobe &amp; Gianna murals are beautiful. Wow. https://t.co/Bt8joYgebZ\n",
      "@bigtqmb tweeted: The scary part I found out he passed then had to go on stage the irony of it is spooky rip Kobe https://t.co/AE2ms0M4eT\n",
      "@WhoisCM3 tweeted: RT @timelesssports_: (2001) Kobe absolutely dominates the Kings with 48 points and 16 rebounds to complete the sweep.\n",
      "\n",
      "22-years-old. ♾ http…\n",
      "@Solid_AceBoss tweeted: RT @TorraineWalker: You got #IStandWithGayle on one side, #IStandWithSnoop on the other, and everybody's so busy setting up their soapboxes…\n",
      "@camschuu tweeted: RT @jaeminpic: 200202 © nana bae\n",
      "The Dream Show in Kobe Day 1 https://t.co/7NfMVVEngQ\n",
      "@jpaulTrey8 tweeted: RT @LakeShowFamily: This mural right here is a master piece. ❤️🐍\n",
      "\n",
      "RIP Kobe, RIP GiGI.\n",
      "\n",
      "📽:@kobemurals https://t.co/NE26E4aVoD\n",
      "@Steeler95519129 tweeted: RT @LakersNation: Jay-Z recalls final conversation with Kobe Bryant, who spoke about Gianna Bryant.\n",
      "https://t.co/hsDPVG51EJ https://t.co/RA…\n",
      "@APodNamedKB tweeted: I heard some dummies saying that black men weren’t angry at Gayle for her Kobe questions we just hate black women..… https://t.co/dF3feHAjQt\n",
      "@jdizz_70 tweeted: RT @timelesssports_: (2001) Kobe and Iverson jawing at each other during the Finals.\n",
      "\n",
      "Undeniable passion. ♾ https://t.co/FzDM41OycM\n",
      "@laidbacksoaks tweeted: RT @espn: Four years ago today, Kobe gifted LeBron his game shoes that he signed following his last game in Cleveland.\n",
      "\n",
      "(via @cavs) https:/…\n",
      "@illWestwood tweeted: RT @SportsCenter: Eight years ago today, Jeremy Lin put on a show at MSG vs. Kobe and the Lakers. https://t.co/bZPtfxOL2P\n",
      "@idnarB_ tweeted: RT @CristalBarzz: Kobe had one accuser and he was acquitted. Charlie Rose had 27 accusers and #GayleKing stood by him. Make it make sense.…\n",
      "@theeZane tweeted: RT @CristalBarzz: Kobe had one accuser and he was acquitted. Charlie Rose had 27 accusers and #GayleKing stood by him. Make it make sense.…\n",
      "@Josueismael507 tweeted: RT @Ballislife: 8 years ago today, Jeremy Lin scored 38 PTS vs Kobe &amp; the Lakers. \n",
      "\n",
      "The best of Linsanity &amp; The Black Mamba (2012-2015) htt…\n",
      "@oMyAngelShawnO tweeted: RT @MsKawami: Kobe Bryant was no rapist https://t.co/bm8N62LZhb via @nypost\n",
      "@OttoPWestJr tweeted: RT @tonetalks: So really now ⁦@JoeNBC⁩ is trying to paint ⁦@SnoopDogg⁩ as a violent criminal as the issue? Joe is painting ⁦@GayleKing⁩ as…\n",
      "@pablogoldstein tweeted: My pilot got on the #WGAstaffingboost #wgastaffingBoost grid. If you wanna read a script about a Venice Beach stree… https://t.co/kU5lJwmMND\n",
      "@toxicdelusions tweeted: RT @HoopsProvider: Kobe did KD dirty on this play😤\n",
      "https://t.co/Q1UsalXk2a\n",
      "@krc062 tweeted: RT @SteveSinger10: #KobeBryant helicopter engines showed no sign of 'catastrophic... https://t.co/mtos6KtQfL @sikorsky @lockheedmartin\n",
      "@ronsmithh22 tweeted: RT @enews: Vanessa Bryant just opened up about missing Kobe &amp; Gianna, and our hearts broke all over again. #TwentyFourever https://t.co/VMP…\n",
      "@ChaacoS tweeted: RT @enews: \"I’ve been reluctant to put my feelings into words. My brain refuses to accept that both Kobe and Gigi are gone. I can’t process…\n",
      "@HerbScribner tweeted: Los Angeles Times releases final interview with Kobe Bryant https://t.co/fxmMoQOXZm https://t.co/JxJGsJNxPZ\n",
      "@lyrik622 tweeted: RT @enews: \"I’ve been reluctant to put my feelings into words. My brain refuses to accept that both Kobe and Gigi are gone. I can’t process…\n",
      "@cassie_harless tweeted: RT @SportsCenter: Eight years ago today, Jeremy Lin put on a show at MSG vs. Kobe and the Lakers. https://t.co/bZPtfxOL2P\n",
      "@dw504966 tweeted: Dana White on Kobe Bryant tribute: ‘He was a friend of the UFC, a friend of the sport’ https://t.co/fDXu544umH via @YahooSports\n",
      "@Dolo_hoee tweeted: RT @tysonbeckdesign: Spent my week taking down this official Kobe Bryant artwork I made from 102 stores and ads illegally selling it. 🤦‍♂️…\n",
      "@AramFarsham tweeted: @CBSEveningNews @krisvancleave it's a tragic accident..Kobe n his 13 yo daughter died along w/ some people in that… https://t.co/d3OccbgPNV\n",
      "@RodFreeman8 tweeted: RT @TorraineWalker: You got #IStandWithGayle on one side, #IStandWithSnoop on the other, and everybody's so busy setting up their soapboxes…\n",
      "@taylorann112 tweeted: RT @enews: \"I’ve been reluctant to put my feelings into words. My brain refuses to accept that both Kobe and Gigi are gone. I can’t process…\n",
      "@JordanGee15 tweeted: RT @ComplexSports: 17 years ago today, MJ had to remind Kobe how many rings he had during his final All-Star Game 😂\n",
      "\n",
      " https://t.co/Aj2U5Uig…\n",
      "@DatCruzanBoii tweeted: RT @Mamba_Insider: \"As basketball players, we're really supposed to shut up and dribble, but I'm glad we did a little bit more than that.\"…\n",
      "@chimucochimuco tweeted: RT @timelesssports_: (2001) Kobe and Iverson jawing at each other during the Finals.\n",
      "\n",
      "Undeniable passion. ♾ https://t.co/FzDM41OycM\n",
      "@migblasino tweeted: RT @SportsCenter: Eight years ago today, Jeremy Lin put on a show at MSG vs. Kobe and the Lakers. https://t.co/bZPtfxOL2P\n",
      "@yapuchoo tweeted: RT @espn: Four years ago today, Kobe gifted LeBron his game shoes that he signed following his last game in Cleveland.\n",
      "\n",
      "(via @cavs) https:/…\n",
      "@_itzore tweeted: RT @enews: Vanessa Bryant just opened up about missing Kobe &amp; Gianna, and our hearts broke all over again. #TwentyFourever https://t.co/VMP…\n",
      "@NdreaPerez tweeted: RT @GuildOfTritons: THANK YOU FOR GREETING THE GOT TEAM, KOBE! See you soon!🤗🌊💙 https://t.co/GxaOFynzg2\n",
      "@lifeofmakaveli1 tweeted: RT @BleacherReport: 17 years ago today, Jordan and Kobe battled and trash-talked during Mike’s final All-Star Game.\n",
      " \n",
      "No fear on either sid…\n",
      "@Frozzyy2 tweeted: RT @Complex: Vanessa Bryant mourns Kobe and Gianna: \"My brain refuses to accept that both Kobe and Gigi are gone — I'm so mad.\"\n",
      "\n",
      "Sending lo…\n",
      "@Gilbert54_mejia tweeted: RT @enews: \"I’ve been reluctant to put my feelings into words. My brain refuses to accept that both Kobe and Gigi are gone. I can’t process…\n",
      "@KighAsAHite tweeted: RT @CristalBarzz: Kobe had one accuser and he was acquitted. Charlie Rose had 27 accusers and #GayleKing stood by him. Make it make sense.…\n",
      "@AlunRoberts6 tweeted: RT @Kellzallday: Kobe &amp; Gianna farewell piece 🙏🏽 #Kobe #Gianna #Lakers https://t.co/9X0WmW228i\n",
      "@TrynaFindaFvck tweeted: RT @espn: Four years ago today, Kobe gifted LeBron his game shoes that he signed following his last game in Cleveland.\n",
      "\n",
      "(via @cavs) https:/…\n",
      "@jennagel_ tweeted: RT @evancoxx: “Two Kobe Burgers Please” \n",
      "\n",
      "The cooks: “FUCK” https://t.co/NCipy08cto\n",
      "@MafiaD1no tweeted: RT @ESPNNBA: On this day in 2002, Kobe returned to his hometown of Philly for the All-Star Game and took the MVP award with him. https://t.…\n",
      "@JQTHECHINK tweeted: RT @timelesssports_: (2001) Kobe and Iverson jawing at each other during the Finals.\n",
      "\n",
      "Undeniable passion. ♾ https://t.co/FzDM41OycM\n",
      "@LakersHoopsPH tweeted: RT @espn: Four years ago today, Kobe gifted LeBron his game shoes that he signed following his last game in Cleveland.\n",
      "\n",
      "(via @cavs) https:/…\n",
      "@SuckaFreeTy_ tweeted: RT @RenyTay: What Erica Cobb did was not compare Kobe to Emmett Till, that’s nonsensical. And a reduction to absurdity. Erica spoke to the…\n",
      "@KyleMason365 tweeted: RT @Breaking911: BREAKING: Video Shows Moment Before Kobe Bryant’s Helicopter Went Down  https://t.co/fp07RYzi7Y\n",
      "@Tooshady_tee tweeted: RT @jcoreyartist: Finally made a Twitter, only fitting my first post be of a tribute to the late Kobe Bryant done with Expo dry erase marke…\n",
      "@Bigbosscam93 tweeted: RT @timelesssports_: (2001) Kobe and Iverson jawing at each other during the Finals.\n",
      "\n",
      "Undeniable passion. ♾ https://t.co/FzDM41OycM\n",
      "@BrianPender_ tweeted: RT @BleacherReport: 2 years ago, Kobe won the Oscar for his short film \"Dear Basketball”\n",
      "\n",
      "A legendary second act 💜💛 https://t.co/Gq9GrAfwrn\n",
      "@biohazardpr tweeted: RT @HoopsProvider: Kobe did KD dirty on this play😤\n",
      "https://t.co/Q1UsalXk2a\n",
      "@_HunchoElite tweeted: RT @espn: Four years ago today, Kobe gifted LeBron his game shoes that he signed following his last game in Cleveland.\n",
      "\n",
      "(via @cavs) https:/…\n",
      "@The_Lovely_Miss tweeted: RT @cavs: February 10, 2016.\n",
      "\n",
      "Kobe Bryant gifts @KingJames his game-worn shoes following his final game played in Cleveland.\n",
      "\n",
      "#MambaForever…\n",
      "@woodromang153 tweeted: RT @Mamba_Insider: \"As basketball players, we're really supposed to shut up and dribble, but I'm glad we did a little bit more than that.\"…\n",
      "@P_Henderson5 tweeted: RT @HoopsProvider: Kobe did KD dirty on this play😤\n",
      "https://t.co/Q1UsalXk2a\n",
      "@PhillipsShaasia tweeted: RT @ESPNNBA: On this day in 2002, Kobe returned to his hometown of Philly for the All-Star Game and took the MVP award with him. https://t.…\n",
      "@doel_rivera tweeted: RT @espn: Four years ago today, Kobe gifted LeBron his game shoes that he signed following his last game in Cleveland.\n",
      "\n",
      "(via @cavs) https:/…\n",
      "@Flightteam_pat tweeted: RT @SportsCenter: Eight years ago today, Jeremy Lin put on a show at MSG vs. Kobe and the Lakers. https://t.co/bZPtfxOL2P\n",
      "@210RaisedMe tweeted: RT @timelesssports_: (2001) Kobe and Iverson jawing at each other during the Finals.\n",
      "\n",
      "Undeniable passion. ♾ https://t.co/FzDM41OycM\n",
      "@Blvdclick tweeted: RT @timelesssports_: (2001) Kobe and Iverson jawing at each other during the Finals.\n",
      "\n",
      "Undeniable passion. ♾ https://t.co/FzDM41OycM\n",
      "@1thio tweeted: RT @espn: Four years ago today, Kobe gifted LeBron his game shoes that he signed following his last game in Cleveland.\n",
      "\n",
      "(via @cavs) https:/…\n",
      "@thequeenroyal tweeted: RT @espn: Four years ago today, Kobe gifted LeBron his game shoes that he signed following his last game in Cleveland.\n",
      "\n",
      "(via @cavs) https:/…\n",
      "@kasumisc30 tweeted: RT @BleacherReport: Spike Lee's Oscars outfit is a tribute to Kobe 💜💛 https://t.co/ONeOPftw70\n",
      "@ShawnTheDon8 tweeted: RT @TorraineWalker: You got #IStandWithGayle on one side, #IStandWithSnoop on the other, and everybody's so busy setting up their soapboxes…\n",
      "@JoeBG23 tweeted: RT @LakeShowFamily: This mural right here is a master piece. ❤️🐍\n",
      "\n",
      "RIP Kobe, RIP GiGI.\n",
      "\n",
      "📽:@kobemurals https://t.co/NE26E4aVoD\n"
     ]
    }
   ],
   "source": [
    "for i,tweet in enumerate(res):\n",
    "        print( '@%s tweeted: %s' % ( tweet['user']['screen_name'], tweet['text'] ) )"
   ]
  },
  {
   "cell_type": "code",
   "execution_count": 64,
   "metadata": {},
   "outputs": [
    {
     "data": {
      "text/plain": [
       "99"
      ]
     },
     "execution_count": 64,
     "metadata": {},
     "output_type": "execute_result"
    }
   ],
   "source": [
    "res.get_amount_of_tweets()"
   ]
  },
  {
   "cell_type": "code",
   "execution_count": 65,
   "metadata": {},
   "outputs": [],
   "source": [
    "res=res.get_tweets()['statuses']"
   ]
  },
  {
   "cell_type": "code",
   "execution_count": 66,
   "metadata": {},
   "outputs": [
    {
     "data": {
      "text/plain": [
       "Index(['contributors', 'contributors_enabled', 'coordinates', 'created_at',\n",
       "       'default_profile', 'default_profile_image', 'description', 'entities',\n",
       "       'favorite_count', 'favorited', 'favourites_count',\n",
       "       'follow_request_sent', 'followers_count', 'following', 'friends_count',\n",
       "       'geo', 'geo_enabled', 'has_extended_profile', 'hashtags', 'id',\n",
       "       'id_str', 'in_reply_to_screen_name', 'in_reply_to_status_id',\n",
       "       'in_reply_to_status_id_str', 'in_reply_to_user_id',\n",
       "       'in_reply_to_user_id_str', 'is_quote_status', 'is_translation_enabled',\n",
       "       'is_translator', 'iso_language_code', 'lang', 'listed_count',\n",
       "       'location', 'metadata', 'name', 'notifications', 'place',\n",
       "       'possibly_sensitive', 'profile_background_color',\n",
       "       'profile_background_image_url', 'profile_background_image_url_https',\n",
       "       'profile_background_tile', 'profile_banner_url', 'profile_image_url',\n",
       "       'profile_image_url_https', 'profile_link_color',\n",
       "       'profile_sidebar_border_color', 'profile_sidebar_fill_color',\n",
       "       'profile_text_color', 'profile_use_background_image', 'protected',\n",
       "       'result_type', 'retweet_count', 'retweeted', 'screen_name', 'source',\n",
       "       'statuses_count', 'symbols', 'text', 'time_zone', 'translator_type',\n",
       "       'truncated', 'url', 'urls', 'user', 'user_mentions', 'utc_offset',\n",
       "       'verified'],\n",
       "      dtype='object')"
      ]
     },
     "execution_count": 66,
     "metadata": {},
     "output_type": "execute_result"
    }
   ],
   "source": [
    "pd.DataFrame.from_dict(res[-2]).index"
   ]
  },
  {
   "cell_type": "code",
   "execution_count": 67,
   "metadata": {},
   "outputs": [
    {
     "data": {
      "text/plain": [
       "dict_keys(['created_at', 'id', 'id_str', 'text', 'truncated', 'entities', 'metadata', 'source', 'in_reply_to_status_id', 'in_reply_to_status_id_str', 'in_reply_to_user_id', 'in_reply_to_user_id_str', 'in_reply_to_screen_name', 'user', 'geo', 'coordinates', 'place', 'contributors', 'retweeted_status', 'is_quote_status', 'retweet_count', 'favorite_count', 'favorited', 'retweeted', 'lang'])"
      ]
     },
     "execution_count": 67,
     "metadata": {},
     "output_type": "execute_result"
    }
   ],
   "source": [
    "res[-2].keys()"
   ]
  },
  {
   "cell_type": "code",
   "execution_count": 68,
   "metadata": {},
   "outputs": [
    {
     "data": {
      "text/plain": [
       "\"RT @TorraineWalker: You got #IStandWithGayle on one side, #IStandWithSnoop on the other, and everybody's so busy setting up their soapboxes…\""
      ]
     },
     "execution_count": 68,
     "metadata": {},
     "output_type": "execute_result"
    }
   ],
   "source": [
    "res[-2]['text']"
   ]
  },
  {
   "cell_type": "code",
   "execution_count": null,
   "metadata": {},
   "outputs": [],
   "source": []
  }
 ],
 "metadata": {
  "kernelspec": {
   "display_name": "Python 3",
   "language": "python",
   "name": "python3"
  },
  "language_info": {
   "codemirror_mode": {
    "name": "ipython",
    "version": 3
   },
   "file_extension": ".py",
   "mimetype": "text/x-python",
   "name": "python",
   "nbconvert_exporter": "python",
   "pygments_lexer": "ipython3",
   "version": "3.7.3"
  }
 },
 "nbformat": 4,
 "nbformat_minor": 2
}
